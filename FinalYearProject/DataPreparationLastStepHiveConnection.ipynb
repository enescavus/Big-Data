{
 "cells": [
  {
   "cell_type": "code",
   "execution_count": null,
   "id": "a3c7b2e5",
   "metadata": {},
   "outputs": [],
   "source": [
    "import pandas as pd \n",
    "from pyhive import hive\n",
    "import time\n",
    "# second hive server connection for pyhive operations\n",
    "conn = hive.Connection(host=\"localhost\", port=10000, username=\"ubuntu3\")\n",
    "cursor = conn.cursor()\n",
    "import datetime\n",
    "now = datetime.datetime.now()\n",
    "print(now.strftime(\"%A\")) # to name the json file saved\n",
    "today = now.strftime(\"%A\")\n",
    "#today = \"Tuesday\""
   ]
  },
  {
   "cell_type": "code",
   "execution_count": null,
   "id": "45b7ba24",
   "metadata": {},
   "outputs": [],
   "source": [
    "import json\n",
    "data_loaded = json.load(open(\"days.txt\"))\n",
    "data_loaded"
   ]
  },
  {
   "cell_type": "code",
   "execution_count": null,
   "id": "939a8d96",
   "metadata": {},
   "outputs": [],
   "source": [
    "data = {}\n",
    "data[today] = {}\n",
    "data[today]['DevicePer'] = {}\n",
    "data"
   ]
  },
  {
   "cell_type": "code",
   "execution_count": null,
   "id": "0ac56c22",
   "metadata": {},
   "outputs": [],
   "source": [
    "twCount = 'SELECT count(*) FROM tuesday'\n",
    "rtCount = 'SELECT sum(rtcount) FROM tuesday'\n",
    "fvCount = 'SELECT sum(fvcount) FROM tuesday'"
   ]
  },
  {
   "cell_type": "code",
   "execution_count": null,
   "id": "442756dc",
   "metadata": {},
   "outputs": [],
   "source": [
    "cursor.execute(twCount)\n",
    "processes_tweet_count = cursor.fetchone()\n"
   ]
  },
  {
   "cell_type": "code",
   "execution_count": null,
   "id": "b87b4bf5",
   "metadata": {},
   "outputs": [],
   "source": [
    "cursor.execute(rtCount)\n",
    "retweetCount = cursor.fetchone()"
   ]
  },
  {
   "cell_type": "code",
   "execution_count": null,
   "id": "9c45b2bd",
   "metadata": {},
   "outputs": [],
   "source": [
    "cursor.execute(fvCount)\n",
    "favoriteCount = cursor.fetchone()"
   ]
  },
  {
   "cell_type": "code",
   "execution_count": null,
   "id": "ac5258ce",
   "metadata": {},
   "outputs": [],
   "source": [
    "print(\"Processed Tweet Count : \", int(processes_tweet_count[0]))\n",
    "print(\"ReTweet Count : \",int(retweetCount[0]))\n",
    "print(\"Favorite Count : \",int(favoriteCount[0]))"
   ]
  },
  {
   "cell_type": "code",
   "execution_count": null,
   "id": "b9283e7f",
   "metadata": {},
   "outputs": [],
   "source": [
    "data = {'ProcessedTweet': [int(processes_tweet_count[0])] ,\n",
    "        'RT': [int(retweetCount[0])],\n",
    "         'FV' : [int(favoriteCount[0])]\n",
    "        }\n",
    "df = pd.DataFrame (data, columns = ['ProcessedTweet','RT','FV'])\n",
    "df"
   ]
  },
  {
   "cell_type": "code",
   "execution_count": null,
   "id": "521f6e24",
   "metadata": {},
   "outputs": [],
   "source": [
    "lengs = 'SELECT tweetlen FROM tuesday'\n",
    "cursor.execute(lengs)\n",
    "total_length = 0\n",
    "for i in cursor.fetchall():\n",
    "    total_length = total_length + int(i[0])\n",
    "\n",
    "df['AvgLength'] = total_length / int(processes_tweet_count[0])\n",
    "print(\"Ortalama tweet karakter uzunlugu {:.2f} \".format(total_length / int(processes_tweet_count[0])))"
   ]
  },
  {
   "cell_type": "code",
   "execution_count": null,
   "id": "f4bcd2c2",
   "metadata": {},
   "outputs": [],
   "source": [
    "devices = 'SELECT device, count(*) FROM tuesday GROUP BY  device SORT BY device ASC'\n",
    "cursor.execute(devices)\n",
    "devGroup = cursor.fetchall()\n",
    "devs = {}\n",
    "for i in devGroup:\n",
    "    devs[i[0]] = i[1]"
   ]
  },
  {
   "cell_type": "code",
   "execution_count": null,
   "id": "41cf757f",
   "metadata": {},
   "outputs": [],
   "source": [
    "isRetweeted = 'SELECT isrt, count(*) FROM tuesday GROUP BY  isrt'\n",
    "cursor.execute(isRetweeted)\n",
    "isrt = cursor.fetchall()\n",
    "rts = {}\n",
    "for i in isrt:\n",
    "    rts[i[0]] = i[1]"
   ]
  },
  {
   "cell_type": "code",
   "execution_count": null,
   "id": "0a7a0dfd",
   "metadata": {},
   "outputs": [],
   "source": [
    "locations = 'SELECT location, count(*) FROM tuesday GROUP BY  location'\n",
    "cursor.execute(locations)\n",
    "locationGroup = cursor.fetchall()\n",
    "locs = {}\n",
    "for i in locationGroup:\n",
    "    locs[i[0]] = i[1]\n",
    "del locs[None]\n",
    "sorted_locs = {k: v for k, v in sorted(locs.items(),reverse = True, key=lambda item: item[1])}"
   ]
  },
  {
   "cell_type": "code",
   "execution_count": null,
   "id": "4a46a2eb",
   "metadata": {},
   "outputs": [],
   "source": [
    "print(\"Devices : \" ,devs)\n",
    "print(\"\\nRT situations : \" , rts)"
   ]
  },
  {
   "cell_type": "code",
   "execution_count": null,
   "id": "8869df5a",
   "metadata": {},
   "outputs": [],
   "source": [
    "print(\"\\nTop 25 Locations : \")\n",
    "top_locs = {}\n",
    "x = 25\n",
    "for k,v in sorted_locs.items():\n",
    "    if x > 0 :\n",
    "        top_locs[k] = v\n",
    "        print(k , v)\n",
    "    x = x -1 "
   ]
  },
  {
   "cell_type": "code",
   "execution_count": null,
   "id": "3b6ea988",
   "metadata": {},
   "outputs": [],
   "source": [
    "print(top_locs)"
   ]
  },
  {
   "cell_type": "code",
   "execution_count": null,
   "id": "52894bd4",
   "metadata": {},
   "outputs": [],
   "source": [
    "import geopandas as gpd\n",
    "import geopy\n",
    "from geopy.geocoders import Nominatim\n",
    "from geopy.extra.rate_limiter import RateLimiter\n",
    "import time\n",
    "locator = Nominatim(user_agent=\"myGeocoder\")"
   ]
  },
  {
   "cell_type": "code",
   "execution_count": null,
   "id": "1406d6af",
   "metadata": {},
   "outputs": [],
   "source": [
    "loc_geocodes = {}\n",
    "for key,value in top_locs.items():\n",
    "    try:\n",
    "        location = locator.geocode(key)\n",
    "        print(location.address)\n",
    "        print(\"Latitude = {}, Longitude = {}\".format(location.latitude, location.longitude))\n",
    "        print(\"\\n\")\n",
    "        loc_geocodes[key] = [value,[location.latitude, location.longitude]]\n",
    "        print(loc_geocodes)\n",
    "        time.sleep(3)\n",
    "    except:\n",
    "        pass"
   ]
  },
  {
   "cell_type": "code",
   "execution_count": null,
   "id": "7414709b",
   "metadata": {},
   "outputs": [],
   "source": [
    "print(loc_geocodes) # top locations with latitude - longitude"
   ]
  },
  {
   "cell_type": "code",
   "execution_count": null,
   "id": "557b5ef0",
   "metadata": {},
   "outputs": [],
   "source": []
  },
  {
   "cell_type": "code",
   "execution_count": null,
   "id": "a98101bb",
   "metadata": {},
   "outputs": [],
   "source": []
  },
  {
   "cell_type": "markdown",
   "id": "7ae8ffb6",
   "metadata": {},
   "source": [
    "### CLEAN VARIABLES"
   ]
  },
  {
   "cell_type": "code",
   "execution_count": null,
   "id": "be488d00",
   "metadata": {},
   "outputs": [],
   "source": [
    "data_loaded =  json.load(open(\"days.txt\"))"
   ]
  },
  {
   "cell_type": "code",
   "execution_count": null,
   "id": "0ee52dd7",
   "metadata": {},
   "outputs": [],
   "source": [
    "data[today]['ProcessedTweetCount'] = int(processes_tweet_count[0])\n",
    "data[today]['RtCount'] = int(retweetCount[0])\n",
    "data[today]['FvCount'] = int(favoriteCount[0])\n",
    "data[today]['Length'] = float(total_length / int(processes_tweet_count[0]))"
   ]
  },
  {
   "cell_type": "code",
   "execution_count": null,
   "id": "67381514",
   "metadata": {
    "scrolled": true
   },
   "outputs": [],
   "source": [
    "retweet_percentage_rt = \"{:.2f}\".format((int(rts['Yes']) / sum(rts.values()))*100)\n",
    "data[today]['RtPer'] = float(retweet_percentage_rt)"
   ]
  },
  {
   "cell_type": "code",
   "execution_count": null,
   "id": "0c7a0db1",
   "metadata": {},
   "outputs": [],
   "source": [
    "device_percentage_android = \"{:.2f}\".format((int(devs['Android']) / sum(devs.values()) )*100)\n",
    "device_percentage_iphone = \"{:.2f}\".format((int(devs['iPhone']) / sum(devs.values()) )*100)\n",
    "device_percentage_webapp = \"{:.2f}\".format((int(devs['WebApp']) / sum(devs.values()) )*100)\n",
    "device_percentage_others = \"{:.2f}\".format((int(devs['Other']) / sum(devs.values()) )*100)\n",
    "\n",
    "data[today]['DevicePer']['Android'] = float(device_percentage_android)\n",
    "data[today]['DevicePer']['iPhone'] = float(device_percentage_iphone)\n",
    "data[today]['DevicePer']['WebApp'] = float(device_percentage_webapp)\n",
    "data[today]['DevicePer']['Other'] = float(device_percentage_others)"
   ]
  },
  {
   "cell_type": "code",
   "execution_count": null,
   "id": "ac7c1f8f",
   "metadata": {},
   "outputs": [],
   "source": [
    "data[today]['Locations'] = loc_geocodes\n",
    "print(loc_geocodes) # top locations with latitude - longitude"
   ]
  },
  {
   "cell_type": "code",
   "execution_count": null,
   "id": "42002562",
   "metadata": {},
   "outputs": [],
   "source": [
    "print(data[today])"
   ]
  },
  {
   "cell_type": "code",
   "execution_count": null,
   "id": "65b2fcd2",
   "metadata": {},
   "outputs": [],
   "source": [
    "print(data_loaded[today])"
   ]
  },
  {
   "cell_type": "code",
   "execution_count": null,
   "id": "5ed2f2f0",
   "metadata": {},
   "outputs": [],
   "source": [
    "data_loaded[today] = data[today]"
   ]
  },
  {
   "cell_type": "code",
   "execution_count": null,
   "id": "cd2c5e31",
   "metadata": {
    "scrolled": false
   },
   "outputs": [],
   "source": [
    "data_loaded"
   ]
  },
  {
   "cell_type": "code",
   "execution_count": null,
   "id": "882e4fb2",
   "metadata": {},
   "outputs": [],
   "source": [
    "json.dump(data_loaded, open(\"days.txt\",'w'))"
   ]
  },
  {
   "cell_type": "code",
   "execution_count": null,
   "id": "defe2aeb",
   "metadata": {},
   "outputs": [],
   "source": []
  },
  {
   "cell_type": "code",
   "execution_count": null,
   "id": "3406b90c",
   "metadata": {},
   "outputs": [],
   "source": []
  },
  {
   "cell_type": "code",
   "execution_count": 1,
   "id": "471d7125",
   "metadata": {},
   "outputs": [],
   "source": [
    "# ENES ÇAVUŞ - FINAL YEAR PROJECT"
   ]
  },
  {
   "cell_type": "code",
   "execution_count": null,
   "id": "fcb6c65e",
   "metadata": {},
   "outputs": [],
   "source": []
  },
  {
   "cell_type": "code",
   "execution_count": null,
   "id": "2bfebe83",
   "metadata": {},
   "outputs": [],
   "source": []
  }
 ],
 "metadata": {
  "kernelspec": {
   "display_name": "Python 3",
   "language": "python",
   "name": "python3"
  },
  "language_info": {
   "codemirror_mode": {
    "name": "ipython",
    "version": 3
   },
   "file_extension": ".py",
   "mimetype": "text/x-python",
   "name": "python",
   "nbconvert_exporter": "python",
   "pygments_lexer": "ipython3",
   "version": "3.6.13"
  }
 },
 "nbformat": 4,
 "nbformat_minor": 5
}
